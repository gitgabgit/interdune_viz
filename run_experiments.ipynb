{
 "cells": [
  {
   "cell_type": "markdown",
   "source": [
    "# Cross Strata Detectron2 Fast RCNN\n",
    "\n",
    "## Experiments Notebook\n",
    "\n",
    "Authors: Gabrielle Melli, Andrew Foerder\n",
    "\n",
    "Date: 9/23/2024"
   ],
   "metadata": {
    "collapsed": false,
    "id": "4eb0add05d1472e5"
   },
   "id": "4eb0add05d1472e5"
  },
  {
   "cell_type": "markdown",
   "source": [
    "# Purpose\n",
    "\n",
    "The purpose of this notebook is to run training experiements using a Detectron2 COCO detection fast rcnn model to recognize Cross-Strata features in ariel images of Earth and Mars."
   ],
   "metadata": {
    "collapsed": false,
    "id": "97bd1f5ed6d65718"
   },
   "id": "97bd1f5ed6d65718"
  },
  {
   "cell_type": "markdown",
   "source": [
    "# Methods"
   ],
   "metadata": {
    "collapsed": false,
    "id": "3cba186d28a42d9a"
   },
   "id": "3cba186d28a42d9a"
  },
  {
   "cell_type": "markdown",
   "source": [
    "## User Settings"
   ],
   "metadata": {
    "collapsed": false,
    "id": "63fa08ecedf2072e"
   },
   "id": "63fa08ecedf2072e"
  },
  {
   "cell_type": "code",
   "outputs": [
    {
     "output_type": "stream",
     "name": "stdout",
     "text": [
      "Mounted at /content/gdrive\n"
     ]
    }
   ],
   "source": [
    "# Connect to GDrive to access image files and labels\n",
    "from google.colab import drive\n",
    "drive.mount('/content/gdrive')"
   ],
   "metadata": {
    "colab": {
     "base_uri": "https://localhost:8080/"
    },
    "id": "r0phkBs__8Tt",
    "outputId": "239a1d52-aed7-4e4a-a636-0e1ebebe4549"
   },
   "execution_count": 1,
   "id": "r0phkBs__8Tt"
  },
  {
   "cell_type": "code",
   "source": [
    "%cd '/content/gdrive/MyDrive/__Shared/Andrew/working_directory'\n",
    "%pwd"
   ],
   "metadata": {
    "colab": {
     "base_uri": "https://localhost:8080/",
     "height": 53
    },
    "id": "eSvmeeMAAXn2",
    "outputId": "607bb0fb-6103-41b5-cecf-5199e9512a66"
   },
   "id": "eSvmeeMAAXn2",
   "execution_count": 2,
   "outputs": [
    {
     "output_type": "stream",
     "name": "stdout",
     "text": [
      "/content/gdrive/.shortcut-targets-by-id/1Bhg_-iEsxa3Aq4v-SLxPVOpKrY5TpKaq/Andrew/working_directory\n"
     ]
    },
    {
     "output_type": "execute_result",
     "data": {
      "text/plain": [
       "'/content/gdrive/.shortcut-targets-by-id/1Bhg_-iEsxa3Aq4v-SLxPVOpKrY5TpKaq/Andrew/working_directory'"
      ],
      "application/vnd.google.colaboratory.intrinsic+json": {
       "type": "string"
      }
     },
     "metadata": {},
     "execution_count": 2
    }
   ]
  },
  {
   "cell_type": "code",
   "outputs": [],
   "source": [
    "import pprint\n",
    "from config_utils import Config"
   ],
   "metadata": {
    "ExecuteTime": {
     "end_time": "2024-09-24T21:17:39.240132Z",
     "start_time": "2024-09-24T21:17:39.228606Z"
    },
    "id": "857ef209c631b082"
   },
   "id": "857ef209c631b082",
   "execution_count": 3
  },
  {
   "cell_type": "code",
   "outputs": [],
   "source": [
    "# TODO automate this\n",
    "label_date_recent = '9-16-24.json'"
   ],
   "metadata": {
    "ExecuteTime": {
     "end_time": "2024-09-24T21:17:42.562205Z",
     "start_time": "2024-09-24T21:17:42.557866Z"
    },
    "id": "979136d6999963ff"
   },
   "id": "979136d6999963ff",
   "execution_count": 4
  },
  {
   "cell_type": "code",
   "outputs": [
    {
     "output_type": "stream",
     "name": "stdout",
     "text": [
      "{'white_sands_heli': {'dir_to_split': '/content/gdrive/MyDrive/__Shared/Andrew/working_directory/data_sources/white_sands_heli/xstrata',\n",
      "                      'raw_anno_path': '/content/gdrive/MyDrive/__Shared/Andrew/working_directory/data_sources/white_sands_heli/xstrata/labels',\n",
      "                      'output_dir': '/content/output/data/white_sands_heli',\n",
      "                      'output_dir_train': '/content/output/data/white_sands_heli/train',\n",
      "                      'output_dir_train_img': '/content/output/data/white_sands_heli/train/images',\n",
      "                      'output_dir_train_anno': '/content/output/data/white_sands_heli/train/json_annotation_train.json',\n",
      "                      'output_dir_val': '/content/output/data/white_sands_heli/val',\n",
      "                      'output_dir_val_img': '/content/output/data/white_sands_heli/val/images',\n",
      "                      'output_dir_val_anno': '/content/output/data/white_sands_heli/val/json_annotation_train.json'},\n",
      " 'white_sands_sat': {'dir_to_split': '/content/gdrive/MyDrive/__Shared/Andrew/working_directory/data_sources/white_sands_sat/annotated',\n",
      "                     'raw_anno_path': '/content/gdrive/MyDrive/__Shared/Andrew/working_directory/data_sources/white_sands_sat/annotated/labels',\n",
      "                     'output_dir': '/content/output/data/white_sands_sat',\n",
      "                     'output_dir_train': '/content/output/data/white_sands_sat/train',\n",
      "                     'output_dir_train_img': '/content/output/data/white_sands_sat/train/images',\n",
      "                     'output_dir_train_anno': '/content/output/data/white_sands_sat/train/json_annotation_train.json',\n",
      "                     'output_dir_val': '/content/output/data/white_sands_sat/val',\n",
      "                     'output_dir_val_img': '/content/output/data/white_sands_sat/val/images',\n",
      "                     'output_dir_val_anno': '/content/output/data/white_sands_sat/val/json_annotation_train.json'}}\n"
     ]
    }
   ],
   "source": [
    "c = Config()\n",
    "c.get_paths()\n",
    "pprint.pp(c.paths)"
   ],
   "metadata": {
    "ExecuteTime": {
     "end_time": "2024-09-24T21:23:35.423664Z",
     "start_time": "2024-09-24T21:23:35.418931Z"
    },
    "colab": {
     "base_uri": "https://localhost:8080/"
    },
    "id": "40c803f3eed31c4c",
    "outputId": "0277b7d3-a254-4155-ac52-12c6e570a74c"
   },
   "id": "40c803f3eed31c4c",
   "execution_count": 5
  },
  {
   "cell_type": "markdown",
   "source": [
    "## Setup"
   ],
   "metadata": {
    "collapsed": false,
    "id": "f119b0ee428b8b8f"
   },
   "id": "f119b0ee428b8b8f"
  },
  {
   "cell_type": "code",
   "outputs": [],
   "source": [
    "%%capture\n",
    "!python -m pip install pyyaml==5.1\n",
    "import sys, os, distutils.core\n",
    "!git clone 'https://github.com/facebookresearch/detectron2'\n",
    "dist = distutils.core.run_setup(\"./detectron2/setup.py\")\n",
    "!python -m pip install {' '.join([f\"'{x}'\" for x in dist.install_requires])}\n",
    "sys.path.insert(0, os.path.abspath('./detectron2'))\n",
    "\n",
    "!python -m pip install split-folders\n",
    "!pip install pycocotools"
   ],
   "metadata": {
    "id": "7c46415042689fdb"
   },
   "id": "7c46415042689fdb",
   "execution_count": 6
  },
  {
   "cell_type": "code",
   "outputs": [
    {
     "output_type": "stream",
     "name": "stdout",
     "text": [
      "nvcc: NVIDIA (R) Cuda compiler driver\n",
      "Copyright (c) 2005-2023 NVIDIA Corporation\n",
      "Built on Tue_Aug_15_22:02:13_PDT_2023\n",
      "Cuda compilation tools, release 12.2, V12.2.140\n",
      "Build cuda_12.2.r12.2/compiler.33191640_0\n",
      "torch:  2.4 ; cuda:  cu121\n",
      "detectron2: 0.6\n"
     ]
    }
   ],
   "source": [
    "import torch, detectron2\n",
    "!nvcc --version\n",
    "TORCH_VERSION = \".\".join(torch.__version__.split(\".\")[:2])\n",
    "CUDA_VERSION = torch.__version__.split(\"+\")[-1]\n",
    "print(\"torch: \", TORCH_VERSION, \"; cuda: \", CUDA_VERSION)\n",
    "print(\"detectron2:\", detectron2.__version__)"
   ],
   "metadata": {
    "colab": {
     "base_uri": "https://localhost:8080/"
    },
    "id": "a9611afa7b37ff46",
    "outputId": "49f2d4b6-43e6-4a96-9e8a-eccd8648aaf2"
   },
   "id": "a9611afa7b37ff46",
   "execution_count": 7
  },
  {
   "cell_type": "code",
   "outputs": [],
   "source": [
    "# Setup detectron2 logger\n",
    "from detectron2.utils.logger import setup_logger\n",
    "setup_logger()\n",
    "\n",
    "# import some common libraries\n",
    "import pandas as pd\n",
    "import numpy as np\n",
    "import json, cv2, random\n",
    "\n",
    "from google.colab.patches import cv2_imshow\n",
    "\n",
    "# import libraries that allow for dataset generation\n",
    "import splitfolders\n",
    "\n",
    "from pycocotools.cocoeval import COCOeval\n",
    "\n",
    "# import some common detectron2 utilities\n",
    "from detectron2 import model_zoo\n",
    "from detectron2.engine import DefaultPredictor\n",
    "from detectron2.engine import DefaultTrainer\n",
    "from detectron2.config import get_cfg\n",
    "from detectron2.utils.visualizer import Visualizer, ColorMode\n",
    "from detectron2.data import MetadataCatalog, DatasetCatalog, build_detection_test_loader\n",
    "from detectron2.data.datasets import register_coco_instances\n",
    "from detectron2.evaluation import COCOEvaluator, inference_on_dataset, DatasetEvaluators\n",
    "\n",
    "# import functions written for this project\n",
    "from data_processing.data_load import get_anno_path, split_json_train_val"
   ],
   "metadata": {
    "id": "dc0d4b4826280670"
   },
   "id": "dc0d4b4826280670",
   "execution_count": 8
  },
  {
   "cell_type": "code",
   "outputs": [
    {
     "output_type": "stream",
     "name": "stderr",
     "text": [
      "Copying files: 237 files [00:08, 27.24 files/s] \n",
      "Copying files: 25 files [00:34,  1.36s/ files]\n"
     ]
    }
   ],
   "source": [
    "# Split the image folders into 'train' and 'val' folders\n",
    "for dataset in c.cfg['datasets']:\n",
    "    splitfolders.ratio(c.paths[dataset]['dir_to_split'],\n",
    "                       output=c.paths[dataset]['output_dir'],\n",
    "                       seed=1420,\n",
    "                       ratio=(0.7, 0.3))"
   ],
   "metadata": {
    "colab": {
     "base_uri": "https://localhost:8080/"
    },
    "id": "d514f574daa71ee7",
    "outputId": "b7d1139a-06ed-4b35-b500-ad4eab00b388"
   },
   "id": "d514f574daa71ee7",
   "execution_count": 9
  },
  {
   "cell_type": "markdown",
   "source": [
    "## Dataset Loading"
   ],
   "metadata": {
    "collapsed": false,
    "id": "8548f45a0abbfaa9"
   },
   "id": "8548f45a0abbfaa9"
  },
  {
   "cell_type": "code",
   "outputs": [],
   "source": [
    "# get the original labels, split them, and register datasets\n",
    "t = []\n",
    "v = []\n",
    "\n",
    "for dataset in c.cfg['datasets']:\n",
    "    anno_path = get_anno_path(c.paths[dataset]['raw_anno_path'], label_date_recent)\n",
    "\n",
    "    split_json_train_val(json_filepath = anno_path,\n",
    "                         train_image_dir = c.paths[dataset]['output_dir_train_img'],\n",
    "                         val_image_dir = c.paths[dataset]['output_dir_val_img'],\n",
    "                         train_json_filepath = c.paths[dataset]['output_dir_train_anno'],\n",
    "                         val_json_filepath = c.paths[dataset]['output_dir_val_anno'])\n",
    "\n",
    "    train_dataset = dataset + '_train'\n",
    "    t.append(train_dataset)\n",
    "    val_dataset = dataset + '_val'\n",
    "    v.append(val_dataset)\n",
    "\n",
    "    register_coco_instances(train_dataset, {}, c.paths[dataset]['output_dir_train_anno'], c.paths[dataset]['output_dir_train_img'])\n",
    "    register_coco_instances(val_dataset, {}, c.paths[dataset]['output_dir_val_anno'], c.paths[dataset]['output_dir_val_img'])\n",
    "    xstrata_metadata = MetadataCatalog.get(train_dataset)\n",
    "    \n",
    "train_datasets = tuple(t)\n",
    "val_datasets = tuple(v)\n"
   ],
   "metadata": {
    "ExecuteTime": {
     "end_time": "2024-09-24T21:34:45.801629Z",
     "start_time": "2024-09-24T21:34:37.316396Z"
    },
    "id": "6ed8cd9202d52240"
   },
   "id": "6ed8cd9202d52240",
   "execution_count": 10
  },
  {
   "cell_type": "markdown",
   "source": [
    "## Model Training"
   ],
   "metadata": {
    "collapsed": false
   },
   "id": "f4c61fa85aa12ef0"
  },
  {
   "cell_type": "code",
   "source": [
    "# initiate a detectron2 config object\n",
    "cfg = get_cfg()\n",
    "cfg.merge_from_file(model_zoo.get_config_file(c.cfg['model_settings']['model_zoo_cfg']))\n",
    "cfg.DATASETS.TRAIN = train_datasets\n",
    "cfg.DATASETS.TEST = (val_datasets[0])\n",
    "\n",
    "# load settings from config\n",
    "cfg.MODEL.WEIGHTS = model_zoo.get_checkpoint_url(c.cfg['model_settings']['model_zoo_cfg'])\n",
    "cfg.DATALOADER.NUM_WORKERS = c.cfg['model_settings']['dataloader__num_workers']\n",
    "\n",
    "cfg.SOLVER.IMS_PER_BATCH = c.cfg['model_settings']['solver__ims_per_batch']\n",
    "cfg.SOLVER.BASE_LR = c.cfg['model_settings']['solver__base_learning_rate']\n",
    "cfg.SOLVER.MAX_ITER = c.cfg['model_settings']['solver__max_iter']                                               # comment from detectron2 tutorial: 300 iterations seems good enough for this toy dataset; you will need to train longer for a practical dataset\n",
    "cfg.SOLVER.STEPS = c.cfg['model_settings']['solver__steps']                                                     # comment from detectron2 tutorial: do not decay learning rate\n",
    "cfg.MODEL.ROI_HEADS.BATCH_SIZE_PER_IMAGE = c.cfg['model_settings']['model__roi_heads__batch_size_per_image']    # comment from detectron2 tutorial: The \"RoIHead batch size\". 128 is faster, and good enough for this toy dataset (default: 512)\n",
    "cfg.MODEL.ROI_HEADS.NUM_CLASSES = c.cfg['model_settings']['model__roi_heads__num_classes']\n",
    "cfg.MODEL.ROI_HEADS.SCORE_THRESH_TEST = c.cfg['model_settings']['model__roi_heads__score_threshold_test']\n",
    "\n",
    "# creates directories to output results\n",
    "cfg.OUTPUT_DIR = c.cfg['paths']['google_colab']['output_path']\n",
    "os.makedirs(cfg.OUTPUT_DIR, exist_ok=True)\n"
   ],
   "metadata": {
    "id": "8hgv1Ni4Bg0k"
   },
   "id": "8hgv1Ni4Bg0k",
   "execution_count": null,
   "outputs": []
  },
  {
   "cell_type": "code",
   "outputs": [],
   "source": [
    "# define detectron2 trainer object using the cfg object we defined above\n",
    "trainer = DefaultTrainer(cfg)\n",
    "trainer.resume_or_load(resume=False)\n",
    "trainer.train()"
   ],
   "metadata": {
    "collapsed": false
   },
   "id": "5f4d2480bd990267"
  },
  {
   "cell_type": "code",
   "outputs": [],
   "source": [
    "predictor = DefaultPredictor(cfg)\n",
    "evaluator = COCOEvaluator(val_datasets[1], cfg, False, output_dir=cfg.OUTPUT_DIR)\n",
    "\n",
    "val_loader = build_detection_test_loader(cfg, val_datasets[1])\n",
    "inference_on_dataset(trainer.model, val_loader, evaluator)"
   ],
   "metadata": {
    "collapsed": false
   },
   "id": "23d2f3662071c35c"
  }
 ],
 "metadata": {
  "kernelspec": {
   "display_name": "Python 3",
   "language": "python",
   "name": "python3"
  },
  "language_info": {
   "codemirror_mode": {
    "name": "ipython",
    "version": 2
   },
   "file_extension": ".py",
   "mimetype": "text/x-python",
   "name": "python",
   "nbconvert_exporter": "python",
   "pygments_lexer": "ipython2",
   "version": "2.7.6"
  },
  "colab": {
   "provenance": []
  }
 },
 "nbformat": 4,
 "nbformat_minor": 5
}

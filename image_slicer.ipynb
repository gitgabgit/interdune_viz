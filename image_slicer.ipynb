{
 "cells": [
  {
   "cell_type": "code",
   "execution_count": 1,
   "id": "initial_id",
   "metadata": {
    "collapsed": true,
    "ExecuteTime": {
     "end_time": "2024-10-09T21:45:58.890589Z",
     "start_time": "2024-10-09T21:45:58.552050Z"
    }
   },
   "outputs": [],
   "source": [
    "import os\n",
    "\n",
    "from data_processing.data_preprocess import get_json_dict, get_json_img_list, slice_image, adjust_coco_annotations, slice_batch"
   ]
  },
  {
   "cell_type": "code",
   "outputs": [],
   "source": [
    "### testing on heli for now\n",
    "\n",
    "raw_img_dir = '/Users/gabriellemelli/Library/CloudStorage/GoogleDrive-gabbymelli@gmail.com/My Drive/Work Stuff/Freelance Work/Andrew/working_directory/data_sources'\n",
    "heli_subdir = 'white_sands_heli/xstrata/images'\n",
    "\n",
    "img_dir = os.path.join(raw_img_dir, heli_subdir)\n",
    "raw_img_file_list = os.listdir(img_dir)\n",
    "anno_file = os.path.join(raw_img_dir, 'white_sands_heli/xstrata/labels/segmentation_xstrata_labels.json')\n",
    "\n",
    "output_dir = '/Users/gabriellemelli/Desktop/test_img_slice'"
   ],
   "metadata": {
    "collapsed": false,
    "ExecuteTime": {
     "end_time": "2024-10-09T21:46:00.518414Z",
     "start_time": "2024-10-09T21:46:00.514539Z"
    }
   },
   "id": "14a8a3d635e78fbb",
   "execution_count": 2
  },
  {
   "cell_type": "code",
   "outputs": [
    {
     "name": "stdout",
     "output_type": "stream",
     "text": [
      "img_path: AnnaWhiteSandsAerials-Vertical--353-IMG_3240.JPG.jpg\n",
      "full_path: /Users/gabriellemelli/Library/CloudStorage/GoogleDrive-gabbymelli@gmail.com/My Drive/Work Stuff/Freelance Work/Andrew/working_directory/data_sources/white_sands_heli/xstrata/images/AnnaWhiteSandsAerials-Vertical--353-IMG_3240.JPG.jpg\n",
      "orig_img_id: 1\n",
      "original_img_id: 1\n",
      "orig_img_annots: [{'id': 0, 'iscrowd': 0, 'image_id': 1, 'category_id': 1, 'segmentation': [[502.43316966721187, 669.3289689034366, 484.6262956901252, 652.5695581014726, 485.6737588652479, 630.5728314238949, 483.57883251500243, 612.7659574468082, 484.6262956901252, 593.9116202945987, 494.0534642662299, 572.9623567921437, 498.2433169667209, 549.9181669394433, 515.0027277686848, 539.4435351882157, 520.2400436442987, 560.3927986906707, 530.7146753955261, 590.7692307692305, 536.9994544462626, 619.0507364975447, 541.1893071467537, 645.2373158756134, 548.5215493726129, 660.9492635024546, 552.7114020731038, 674.5662847790503, 552.7114020731038, 686.0883797054006, 547.4740861974901, 693.4206219312598, 544.3316966721219, 699.7054009819964, 539.0943807965081, 705.9901800327328, 529.6672122204034, 699.7054009819964, 524.4298963447897, 690.2782324058916]], 'bbox': [483.57883251500243, 539.4435351882157, 69.13256955810141, 166.54664484451712], 'area': 6542.4789926095655}, {'id': 1, 'iscrowd': 0, 'image_id': 1, 'category_id': 1, 'segmentation': [[562.1385706492086, 687.1358428805233, 564.2334969994541, 713.322422258592, 564.2334969994541, 723.7970540098196, 591.4675395526456, 705.9901800327328, 613.4642662302233, 691.3256955810143, 602.9896344789958, 664.0916530278229, 594.6099290780138, 647.3322422258589, 585.1827605019091, 631.6202945990176, 575.7555919258043, 625.3355155482811, 565.2809601745769, 624.2880523731584, 554.8063284233493, 633.7152209492632, 554.8063284233493, 646.2847790507361]], 'bbox': [554.8063284233493, 624.2880523731584, 58.657937806873974, 99.5090016366612], 'area': 3513.1674885688117}, {'id': 2, 'iscrowd': 0, 'image_id': 1, 'category_id': 1, 'segmentation': [[866.9503546099286, 424.22258592471337, 862.7605019094376, 403.2733224222584, 852.2858701582101, 385.46644844517164, 838.6688488816143, 370.80196399345317, 821.9094380796504, 349.8527004909982, 811.4348063284228, 336.2356792144024, 800.9601745771954, 330.9983633387887, 785.2482269503541, 314.2389525368247, 770.5837424986356, 309.00163666121097, 746.4920894708124, 301.6693944353517, 727.6377523186029, 297.47954173486073, 715.06819421713, 297.47954173486073, 706.6884888161479, 301.6693944353517, 720.3055100927437, 327.85597381342046, 742.3022367703214, 330.9983633387887, 762.2040370976537, 333.0932896890342, 786.2956901254769, 343.56792144026167, 808.2924168030546, 370.80196399345317, 820.8619749045276, 390.70376432078535, 836.5739225313688, 413.7479541734859, 852.2858701582101, 432.6022913256953]], 'bbox': [706.6884888161479, 297.47954173486073, 160.26186579378066, 135.1227495908346], 'area': 5152.901658358362}, {'id': 3, 'iscrowd': 0, 'image_id': 1, 'category_id': 1, 'segmentation': [[477.2940534642659, 1399.4108019639928, 481.48390616475695, 1417.2176759410795, 494.0534642662299, 1441.3093289689027, 508.7179487179484, 1452.8314238952528, 530.7146753955261, 1462.2585924713576, 551.6639388979811, 1470.6382978723395, 579.9454446262953, 1466.4484451718486, 587.2776868521546, 1454.9263502454983, 585.1827605019091, 1420.3600654664476, 578.8979814511725, 1391.0310965630106, 580.992907801418, 1373.224222585924, 566.3284233496996, 1374.2716857610467, 533.8570649208943, 1387.8887070376425]], 'bbox': [477.2940534642659, 1373.224222585924, 109.98363338788869, 97.41407528641548], 'area': 7340.676790215373}, {'id': 4, 'iscrowd': 0, 'image_id': 1, 'category_id': 1, 'segmentation': [[12.220403709765396, 1411.9803600654657, 19.55264593562464, 1383.6988543371515, 21.647572285870137, 1364.8445171849419, 21.647572285870137, 1347.0376432078551, 21.647572285870137, 1330.2782324058912, 21.647572285870137, 1316.6612111292955, 26.884888161483882, 1298.8543371522087, 39.45444626295687, 1294.6644844517177, 54.11893071467536, 1290.4746317512268, 52.02400436442986, 1313.5188216039273, 52.02400436442986, 1330.2782324058912, 47.83415166393886, 1353.3224222585918, 42.596835788325116, 1360.654664484451, 45.73922531369336, 1371.1292962356783, 46.78668848881611, 1385.793780687397]], 'bbox': [12.220403709765396, 1290.4746317512268, 41.898527004909965, 121.50572831423892], 'area': 2842.7910564902586}, {'id': 5, 'iscrowd': 0, 'image_id': 1, 'category_id': 1, 'segmentation': [[26.884888161483882, 1526.1538461538453, 33.169667212220375, 1512.5368248772495, 39.45444626295687, 1503.109656301145, 50.976541189307106, 1485.3027823240582, 55.1663938897981, 1477.9705400981989, 61.4511729405346, 1503.109656301145, 61.4511729405346, 1512.5368248772495, 69.8308783415166, 1526.1538461538453, 78.21058374249859, 1530.3436988543363, 70.87834151663934, 1549.1980360065459]], 'bbox': [26.884888161483882, 1477.9705400981989, 51.3256955810147, 71.22749590834701], 'area': 1582.6808564211483}, {'id': 6, 'iscrowd': 0, 'image_id': 1, 'category_id': 1, 'segmentation': [[76.11565739225308, 1573.289689034369, 81.35297326786683, 1589.0016366612103, 92.87506819421706, 1597.3813420621923, 116.96672122204029, 1608.9034369885426, 141.05837424986353, 1613.0932896890336, 152.58046917621377, 1598.428805237315, 142.10583742498628, 1583.7643207855965, 126.39388979814504, 1581.669394435351, 110.6819421713038, 1577.47954173486, 84.49536279323507, 1564.909983633387]], 'bbox': [76.11565739225308, 1564.909983633387, 76.46481178396068, 48.18330605564665], 'area': 1928.8408634928162}, {'id': 7, 'iscrowd': 0, 'image_id': 1, 'category_id': 1, 'segmentation': [[162.00763775231852, 1621.4729950900155, 164.102564102564, 1606.8085106382969, 168.292416803055, 1598.428805237315, 182.95690125477347, 1597.3813420621923, 199.71631205673748, 1601.5711947626833, 210.19094380796497, 1605.7610474631742, 220.66557555919243, 1614.1407528641562, 233.23513366066544, 1624.6153846153836, 227.9978177850517, 1646.6121112929613, 233.23513366066544, 1660.2291325695571, 247.89961811238393, 1663.3715220949255, 263.61156573922517, 1662.3240589198026, 262.5641025641024, 1680.1309328968894, 249.99454446262942, 1685.3682487725032, 229.04528096017444, 1690.6055646481168, 213.3333333333332, 1686.4157119476258, 206.00109110747397, 1672.79869067103, 200.76377523186022, 1654.9918166939435, 197.62138570649196, 1644.5171849427159, 186.09929078014173, 1637.1849427168568]], 'bbox': [162.00763775231852, 1597.3813420621923, 101.60392798690665, 93.22422258592451], 'area': 4226.333905673666}, {'id': 8, 'iscrowd': 0, 'image_id': 1, 'category_id': 1, 'segmentation': [[218.57064920894695, 831.6857610474627, 252.0894708128749, 869.3944353518817, 266.7539552645934, 900.8183306055641, 292.9405346426621, 933.2896890343694, 305.5100927441351, 966.8085106382973, 317.0321876704853, 954.2389525368243, 324.3644298963446, 933.2896890343694, 313.8897981451171, 897.6759410801959, 295.0354609929076, 876.7266775777409, 286.6557555919256, 852.6350245499177, 281.41843971631187, 841.1129296235674, 258.3742498636114, 828.5433715220945, 238.47244953627919, 820.1636661211124]], 'bbox': [218.57064920894695, 820.1636661211124, 105.79378068739763, 146.64484451718488], 'area': 5352.588255147705}]\n",
      "slice_data: {'file_name': 'AnnaWhiteSandsAerials-Vertical--353-IMG_3240.JPG.jpg_slice_0.jpg', 'height': 500, 'width': 500, 'orig_id': 1, 'slice_idx': 0, 'id': 1000, 'xywh': (0, 0, 500, 500)}\n",
      "slice_x, slice_y: (0, 0)\n",
      "slice_data: {'file_name': 'AnnaWhiteSandsAerials-Vertical--353-IMG_3240.JPG.jpg_slice_1.jpg', 'height': 500, 'width': 500, 'orig_id': 1, 'slice_idx': 1, 'id': 1001, 'xywh': (0, 500, 500, 1000)}\n",
      "slice_x, slice_y: (0, 500)\n",
      "slice_data: {'file_name': 'AnnaWhiteSandsAerials-Vertical--353-IMG_3240.JPG.jpg_slice_2.jpg', 'height': 500, 'width': 500, 'orig_id': 1, 'slice_idx': 2, 'id': 1002, 'xywh': (0, 1000, 500, 1500)}\n",
      "slice_x, slice_y: (0, 1000)\n",
      "slice_data: {'file_name': 'AnnaWhiteSandsAerials-Vertical--353-IMG_3240.JPG.jpg_slice_3.jpg', 'height': 500, 'width': 500, 'orig_id': 1, 'slice_idx': 3, 'id': 1003, 'xywh': (500, 0, 1000, 500)}\n",
      "slice_x, slice_y: (500, 0)\n",
      "slice_data: {'file_name': 'AnnaWhiteSandsAerials-Vertical--353-IMG_3240.JPG.jpg_slice_4.jpg', 'height': 500, 'width': 500, 'orig_id': 1, 'slice_idx': 4, 'id': 1004, 'xywh': (500, 500, 1000, 1000)}\n",
      "slice_x, slice_y: (500, 500)\n",
      "slice_data: {'file_name': 'AnnaWhiteSandsAerials-Vertical--353-IMG_3240.JPG.jpg_slice_5.jpg', 'height': 500, 'width': 500, 'orig_id': 1, 'slice_idx': 5, 'id': 1005, 'xywh': (500, 1000, 1000, 1500)}\n",
      "slice_x, slice_y: (500, 1000)\n"
     ]
    }
   ],
   "source": [
    "test = slice_batch(img_dir, anno_file, (500, 500), output_dir)"
   ],
   "metadata": {
    "collapsed": false,
    "ExecuteTime": {
     "end_time": "2024-10-09T21:46:02.624741Z",
     "start_time": "2024-10-09T21:46:02.568578Z"
    }
   },
   "id": "5b114bd868044d06",
   "execution_count": 3
  },
  {
   "cell_type": "code",
   "outputs": [],
   "source": [
    "# import json\n",
    "# import numpy as np\n",
    "# import matplotlib.pyplot as plt\n",
    "# import matplotlib.patches as patches\n",
    "# from PIL import Image\n",
    "# \n",
    "# def plot_annotations(image_path, annotations, category_map):\n",
    "#     # Load the image\n",
    "#     img = np.array(Image.open(image_path))\n",
    "#     \n",
    "#     # Create a plot\n",
    "#     fig, ax = plt.subplots(1, figsize=(12, 12))\n",
    "#     ax.imshow(img)\n",
    "# \n",
    "#     # Iterate over annotations and plot bounding boxes and masks\n",
    "#     for annotation in annotations:\n",
    "#         # Plot bounding box (if available)\n",
    "#         if 'bbox' in annotation:\n",
    "#             bbox = annotation['bbox']\n",
    "#             rect = patches.Rectangle((bbox[0], bbox[1]), bbox[2], bbox[3], linewidth=2, edgecolor='r', facecolor='none')\n",
    "#             ax.add_patch(rect)\n",
    "# \n",
    "#         # Plot segmentation mask (if available)\n",
    "#         if 'segmentation' in annotation:\n",
    "#             for seg in annotation['segmentation']:\n",
    "#                 poly = np.array(seg).reshape((int(len(seg)/2), 2))\n",
    "#                 polygon = patches.Polygon(poly, linewidth=2, edgecolor='blue', facecolor='none')\n",
    "#                 ax.add_patch(polygon)\n",
    "# \n",
    "#         # Add the category name\n",
    "#         category_id = annotation['category_id']\n",
    "#         category_name = category_map[category_id]\n",
    "#         plt.text(bbox[0], bbox[1] - 5, category_name, color='white', fontsize=12, bbox=dict(facecolor='red', alpha=0.5))\n",
    "# \n",
    "#     plt.show()\n",
    "# \n",
    "# def get_image_annotations(image_id, coco_annotations):\n",
    "#     # Filter annotations corresponding to the given image_id\n",
    "#     return [ann for ann in coco_annotations if ann['image_id'] == image_id]\n",
    "# \n",
    "# def load_category_map(coco_data):\n",
    "#     # Create a mapping from category_id to category name\n",
    "#     return {category['id']: category['name'] for category in coco_data['categories']}"
   ],
   "metadata": {
    "collapsed": false,
    "ExecuteTime": {
     "end_time": "2024-10-11T20:46:32.722115Z",
     "start_time": "2024-10-11T20:46:32.719510Z"
    }
   },
   "id": "d12cfa590c7ea372",
   "execution_count": 5
  },
  {
   "cell_type": "code",
   "outputs": [],
   "source": [
    "# Example usage\n",
    "# coco_annotation_path = '/Users/gabriellemelli/Desktop/test_img_slice/new_labels.json'  # Path to your new COCO annotations\n",
    "# image_dir = '/Users/gabriellemelli/Desktop/test_img_slice/images'  # Directory where your sliced images are stored\n",
    "# \n",
    "# # Load the COCO annotations\n",
    "# with open(coco_annotation_path) as f:\n",
    "#     coco_data = json.load(f)\n",
    "# \n",
    "# # Create a category map from category_id to category name\n",
    "# category_map = load_category_map(coco_data)\n",
    "# \n",
    "# # Iterate over the images in the COCO dataset\n",
    "# for image_info in coco_data['images']:\n",
    "#     image_id = image_info['id']\n",
    "#     image_filename = image_info['file_name']\n",
    "#     image_path = f\"{image_dir}/{image_filename}\"\n",
    "# \n",
    "#     # Get annotations for this image\n",
    "#     annotations = get_image_annotations(image_id, coco_data['annotations'])\n",
    "# \n",
    "#     # Plot the image with overlaid annotations\n",
    "#     plot_annotations(image_path, annotations, category_map)\n"
   ],
   "metadata": {
    "collapsed": false,
    "ExecuteTime": {
     "end_time": "2024-10-11T20:46:16.457805Z",
     "start_time": "2024-10-11T20:46:16.374942Z"
    }
   },
   "id": "5b41afe82642b172",
   "execution_count": 4
  },
  {
   "cell_type": "code",
   "outputs": [],
   "source": [],
   "metadata": {
    "collapsed": false
   },
   "id": "49c079a4f32244bf"
  }
 ],
 "metadata": {
  "kernelspec": {
   "display_name": "Python 3",
   "language": "python",
   "name": "python3"
  },
  "language_info": {
   "codemirror_mode": {
    "name": "ipython",
    "version": 2
   },
   "file_extension": ".py",
   "mimetype": "text/x-python",
   "name": "python",
   "nbconvert_exporter": "python",
   "pygments_lexer": "ipython2",
   "version": "2.7.6"
  }
 },
 "nbformat": 4,
 "nbformat_minor": 5
}
